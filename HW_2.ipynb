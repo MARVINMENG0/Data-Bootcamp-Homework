{
 "cells": [
  {
   "cell_type": "code",
   "execution_count": 1,
   "metadata": {},
   "outputs": [
    {
     "ename": "TypeError",
     "evalue": "can only concatenate list (not \"str\") to list",
     "output_type": "error",
     "traceback": [
      "\u001b[0;31m---------------------------------------------------------------------------\u001b[0m",
      "\u001b[0;31mTypeError\u001b[0m                                 Traceback (most recent call last)",
      "\u001b[0;32m<ipython-input-1-00671bda4f52>\u001b[0m in \u001b[0;36m<module>\u001b[0;34m()\u001b[0m\n\u001b[1;32m      2\u001b[0m \u001b[0mx\u001b[0m \u001b[0;34m=\u001b[0m \u001b[0;34m[\u001b[0m\u001b[0;36m1\u001b[0m\u001b[0;34m,\u001b[0m\u001b[0;36m2\u001b[0m\u001b[0;34m,\u001b[0m\u001b[0;36m3\u001b[0m\u001b[0;34m]\u001b[0m\u001b[0;34m\u001b[0m\u001b[0m\n\u001b[1;32m      3\u001b[0m \u001b[0my\u001b[0m \u001b[0;34m=\u001b[0m \u001b[0;34m'bootcamp'\u001b[0m\u001b[0;34m\u001b[0m\u001b[0m\n\u001b[0;32m----> 4\u001b[0;31m \u001b[0mz\u001b[0m \u001b[0;34m=\u001b[0m \u001b[0mx\u001b[0m\u001b[0;34m+\u001b[0m\u001b[0my\u001b[0m\u001b[0;34m\u001b[0m\u001b[0m\n\u001b[0m",
      "\u001b[0;31mTypeError\u001b[0m: can only concatenate list (not \"str\") to list"
     ]
    }
   ],
   "source": [
    "#Problem 1\n",
    "x = [1,2,3]\n",
    "y = 'bootcamp'\n",
    "z = x+y"
   ]
  },
  {
   "cell_type": "markdown",
   "metadata": {},
   "source": [
    "This code doesn't work because you cannot concatenate a string to a list. The string should be within braces, which would make it a list and allow x and y to be concatenated. \n",
    "\n",
    "Ex. y = ['bootcamp']\n"
   ]
  },
  {
   "cell_type": "code",
   "execution_count": 4,
   "metadata": {},
   "outputs": [
    {
     "name": "stdout",
     "output_type": "stream",
     "text": [
      "<class 'list'>\n",
      "3\n",
      "<class 'str'>\n",
      "8\n"
     ]
    }
   ],
   "source": [
    "#Problem 2\n",
    "print(type(x)) #tells type of x\n",
    "\n",
    "print(len(x)) #tells how many elements in x\n",
    "\n",
    "print(type(y)) #tells type of y\n",
    "\n",
    "print(len(y)) #tells how many elements in y"
   ]
  },
  {
   "cell_type": "markdown",
   "metadata": {},
   "source": [
    "type() tells the data type\n",
    "len() tells the numbre of elements"
   ]
  },
  {
   "cell_type": "code",
   "execution_count": 8,
   "metadata": {},
   "outputs": [
    {
     "name": "stdout",
     "output_type": "stream",
     "text": [
      "<class 'int'>\n",
      "<class 'str'>\n",
      "<class 'float'>\n",
      "<class 'str'>\n",
      "<class 'bool'>\n",
      "<class 'bool'>\n",
      "<class 'list'>\n",
      "<class 'tuple'>\n",
      "<class 'dict'>\n"
     ]
    }
   ],
   "source": [
    "#Problem 3\n",
    "print(type(2)) #integer\n",
    "print(type('2')) #string\n",
    "print(type(2.0)) #float\n",
    "print(type(\"2.0\")) #string\n",
    "print(type(2>1)) #boolean\n",
    "print(type('Itamar' > 'Chase')) #boolean\n",
    "print(type([1,2])) #list\n",
    "print(type((1,2))) #tuple\n",
    "print(type({1:'one', 2:'two'})) #dictionary"
   ]
  },
  {
   "cell_type": "markdown",
   "metadata": {},
   "source": [
    "We can tell what type each expression is by using the type() function"
   ]
  },
  {
   "cell_type": "code",
   "execution_count": 9,
   "metadata": {},
   "outputs": [
    {
     "name": "stdout",
     "output_type": "stream",
     "text": [
      "True\n",
      "True\n",
      "False\n",
      "True\n",
      "True\n",
      "True\n",
      "False\n",
      "True\n",
      "True\n"
     ]
    }
   ],
   "source": [
    "#Problem 4\n",
    "print(1>=0) #True\n",
    "print(1 >= 1) #True\n",
    "print(1 > 1) #False\n",
    "print(1==1) #True\n",
    "print(1 == 1.0) #True\n",
    "print(\"Spencer\" == \"Spencer\") #True\n",
    "print(2**3 > 3**2) #False\n",
    "print(1 >= 0 or 1 <= 2) #True\n",
    "print(1 >= 0 and 1 <= 2) #True"
   ]
  },
  {
   "cell_type": "code",
   "execution_count": 11,
   "metadata": {},
   "outputs": [
    {
     "name": "stdout",
     "output_type": "stream",
     "text": [
      "Yes, 2 is still greater than 1\n"
     ]
    }
   ],
   "source": [
    "#Problem 5\n",
    "if 2>1#:   #missing a colon after if statement\n",
    "    print(\"Yes, 2 is still greater than 1\")"
   ]
  },
  {
   "cell_type": "markdown",
   "metadata": {},
   "source": [
    "The code has an error because it is missing the colon after the if statement. If the colon is added it will return:\n",
    "Yes, 2 is still greater than 1"
   ]
  },
  {
   "cell_type": "code",
   "execution_count": 14,
   "metadata": {},
   "outputs": [
    {
     "name": "stdout",
     "output_type": "stream",
     "text": [
      "on the one hand\n",
      "but on the other hand\n",
      "but on the other hand\n"
     ]
    }
   ],
   "source": [
    "#Problem 6\n",
    "if True:\n",
    "    print('on the one hand')\n",
    "else:\n",
    "    print('but on the other hand')\n",
    "    \n",
    "if False:\n",
    "    print('on the one hand')\n",
    "else:\n",
    "    print('but on the other hand')\n",
    "    \n",
    "if not True:\n",
    "    print('on the one hand')\n",
    "else:\n",
    "    print('but on the other hand') "
   ]
  },
  {
   "cell_type": "markdown",
   "metadata": {},
   "source": [
    "The code prints:\n",
    "on the one hand\n",
    "because the default value for an if statement is True, unless something makes it false.\n",
    "\n",
    "Changing True to False in the first line prints:\n",
    "but on the other hand\n",
    "because now a value of True will cause the else statement to run\n",
    "\n",
    "Adding a not to create, if not True, will print:\n",
    "but on the other hand\n",
    "because not True == False, and will make the else statement run"
   ]
  },
  {
   "cell_type": "code",
   "execution_count": 15,
   "metadata": {},
   "outputs": [
    {
     "name": "stdout",
     "output_type": "stream",
     "text": [
      "Chase\n"
     ]
    }
   ],
   "source": [
    "#Problem 7\n",
    "cond = True\n",
    "if cond:\n",
    "    x = \"Chase\"\n",
    "else:\n",
    "    x = \"Dave\"\n",
    "print(x)"
   ]
  },
  {
   "cell_type": "markdown",
   "metadata": {},
   "source": [
    "The result is \"Chase\", because cond = True. The if statement defaults to test for true.\n",
    "Ex. if cond:  ==    if cond == True:\n",
    "\n",
    "This causes the if statement to run."
   ]
  },
  {
   "cell_type": "code",
   "execution_count": 18,
   "metadata": {},
   "outputs": [
    {
     "name": "stdout",
     "output_type": "stream",
     "text": [
      "x has more\n"
     ]
    }
   ],
   "source": [
    "#Problem 8\n",
    "x = [1,2,3,4]\n",
    "y = ['x', 'y', 'z']\n",
    "\n",
    "if len(x) > len(y):\n",
    "    print('x has more')\n",
    "else:\n",
    "    print(\"y has at least as many\")"
   ]
  },
  {
   "cell_type": "markdown",
   "metadata": {},
   "source": [
    "Problem 9:\n",
    "\n",
    "Slicing takes a subset of a total list."
   ]
  },
  {
   "cell_type": "code",
   "execution_count": 22,
   "metadata": {},
   "outputs": [
    {
     "name": "stdout",
     "output_type": "stream",
     "text": [
      "1\n",
      "5\n",
      "5\n",
      "[1, 2, 3, 4]\n",
      "[1, 2, 3, 4]\n"
     ]
    }
   ],
   "source": [
    "#Problem 10\n",
    "x = [1,2,3,4,5]\n",
    "\n",
    "print(x[0]) # prints first element\n",
    "print(x[-1]) #prints last element\n",
    "#print(x[4]) #alternative method\n",
    "\n",
    "print(x[:-1]) #prints first to last element, excluding last element\n",
    "#print(x[0:4]) #alternative method"
   ]
  },
  {
   "cell_type": "code",
   "execution_count": 38,
   "metadata": {},
   "outputs": [
    {
     "name": "stdout",
     "output_type": "stream",
     "text": [
      "This\n",
      "is\n",
      "a\n",
      "sentence;\n",
      "please\n",
      "slice\n",
      "it.\n"
     ]
    }
   ],
   "source": [
    "#Problem 11\n",
    "sentence = \"This is a sentence; please slice it.\"\n",
    "print(sentence[0:4])\n",
    "print(sentence[5:7])\n",
    "print(sentence[8])\n",
    "print(sentence[10:19])\n",
    "print(sentence[20:26])\n",
    "print(sentence[27:32])\n",
    "print(sentence[33:36])"
   ]
  },
  {
   "cell_type": "code",
   "execution_count": 40,
   "metadata": {},
   "outputs": [
    {
     "name": "stdout",
     "output_type": "stream",
     "text": [
      "1\n",
      "10\n",
      "['b', 'fast', 'slow', 3]\n"
     ]
    }
   ],
   "source": [
    "#Problem 12\n",
    "x = [1,2,\"a\",\"b\",\"fast\",\"slow\",3,\"Raghu\",\"Liuren\",10]\n",
    "\n",
    "print(x[0]) #slices first item\n",
    "print(x[-1]) #sliices last item\n",
    "print(x[3:7]) #slices from \"b\" to 3 inclusive"
   ]
  },
  {
   "cell_type": "code",
   "execution_count": 41,
   "metadata": {},
   "outputs": [
    {
     "name": "stdout",
     "output_type": "stream",
     "text": [
      "1\n",
      "2\n",
      "a\n",
      "b\n",
      "fast\n",
      "slow\n",
      "3\n",
      "Raghu\n",
      "Liuren\n",
      "10\n"
     ]
    }
   ],
   "source": [
    "#Problem 13\n",
    "x = [1,2,\"a\",\"b\",\"fast\",\"slow\",3,\"Raghu\",\"Liuren\",10]\n",
    "for i in x:\n",
    "    print(i)"
   ]
  },
  {
   "cell_type": "code",
   "execution_count": 42,
   "metadata": {},
   "outputs": [
    {
     "name": "stdout",
     "output_type": "stream",
     "text": [
      "a\n",
      "b\n",
      "fast\n",
      "slow\n",
      "Raghu\n",
      "Liuren\n"
     ]
    }
   ],
   "source": [
    "x = [1,2,\"a\",\"b\",\"fast\",\"slow\",3,\"Raghu\",\"Liuren\",10]\n",
    "for i in x:\n",
    "    if type(i) == str:\n",
    "        print(i)"
   ]
  },
  {
   "cell_type": "code",
   "execution_count": 44,
   "metadata": {},
   "outputs": [
    {
     "data": {
      "text/plain": [
       "[3, 5, 7, 9, 11]"
      ]
     },
     "execution_count": 44,
     "metadata": {},
     "output_type": "execute_result"
    }
   ],
   "source": [
    "#Problem 15\n",
    "list(range(3,12,2))"
   ]
  },
  {
   "cell_type": "markdown",
   "metadata": {},
   "source": [
    "The range() function creates an object that consists of a range of numbers. The function takes arguments range(x,y,z). x determines the starting value of the list. y determines the ending value of the list, not including y. z determines the step of the range, meaning the distance between the items in the list.\n",
    "\n",
    "list(range(3,12,2)) creates a list of numbers that starts from 3, inreases by 2, and ends at 12, not including 12."
   ]
  },
  {
   "cell_type": "code",
   "execution_count": 46,
   "metadata": {},
   "outputs": [
    {
     "name": "stdout",
     "output_type": "stream",
     "text": [
      "[0, 3, 6, 9, 12, 15, 18, 21, 24, 27, 30]\n",
      "165\n"
     ]
    }
   ],
   "source": [
    "#Problem 16\n",
    "x = list(range(0,31,3))\n",
    "total = 0\n",
    "for i in x:\n",
    "    total += i\n",
    "print(x)\n",
    "print(total)"
   ]
  },
  {
   "cell_type": "code",
   "execution_count": 49,
   "metadata": {},
   "outputs": [
    {
     "name": "stdout",
     "output_type": "stream",
     "text": [
      "$ 1.41\n"
     ]
    }
   ],
   "source": [
    "#Problem 17\n",
    "def pocket_change(p, n, d, q):\n",
    "    total = p*.01 + n*.05 + d*.1 + q*.25\n",
    "    print(\"$\", round(total,2))\n",
    "\n",
    "pocket_change(1,2,3,4)"
   ]
  },
  {
   "cell_type": "code",
   "execution_count": 64,
   "metadata": {},
   "outputs": [
    {
     "name": "stdout",
     "output_type": "stream",
     "text": [
      "[1234, 4321, 9876]\n"
     ]
    }
   ],
   "source": [
    "#Problem 18\n",
    "test = [1234, 6783, 6, 4321, 9876]\n",
    "def notsix(list):\n",
    "    x = []\n",
    "    for i in list:\n",
    "        i = str(i)\n",
    "        if i[0] != \"6\":\n",
    "            x.append(int(i))\n",
    "        i = int(i)\n",
    "    print(x)\n",
    "\n",
    "notsix(test)"
   ]
  },
  {
   "cell_type": "code",
   "execution_count": 66,
   "metadata": {},
   "outputs": [
    {
     "name": "stdout",
     "output_type": "stream",
     "text": [
      "[1234, 4321, 9876]\n"
     ]
    }
   ],
   "source": [
    "#Problem 19\n",
    "old_list = [1234, 6783, 6, 4321, 9876]\n",
    "new_list = [x for x in old_list if str(x)[0] != \"6\"]\n",
    "print(new_list)"
   ]
  },
  {
   "cell_type": "markdown",
   "metadata": {},
   "source": [
    "The code does what we did in problem 18. It takes the old_list and returns a new_list without any integer starting with a 6. It does this by taking each item in the old_list, converting it into a string, and checking to see if the first element in the string is not a \"6\". If it is not a \"6\", the integer version of the element is added to the new_list."
   ]
  },
  {
   "cell_type": "code",
   "execution_count": 1,
   "metadata": {},
   "outputs": [
    {
     "name": "stdout",
     "output_type": "stream",
     "text": [
      "<class 'dict'>\n",
      "3\n",
      "dict_keys([1, 2, 3])\n",
      "dict_values(['one', 'two', 'three'])\n",
      "two\n",
      "[1, 2, 3]\n",
      "['one', 'two', 'three']\n",
      "[1, 2, 3]\n"
     ]
    }
   ],
   "source": [
    "#Problem 20\n",
    "z = {1: 'one', 2: 'two', 3:'three'}\n",
    "print(type(z)) #gives type of z\n",
    "print(len(z)) #gives length of z\n",
    "\n",
    "print(z.keys()) #gives keys\n",
    "print(z.values()) #gives values\n",
    "\n",
    "print(z[2]) #gives value of key 2\n",
    "\n",
    "print(list(z.keys())) #gives a list of the keys\n",
    "print(list(z.values())) #gives a list of the values\n",
    "\n",
    "print(list(z))\n"
   ]
  },
  {
   "cell_type": "markdown",
   "metadata": {},
   "source": [
    "a. Z is a dictionary of length 3.\n",
    "\n",
    "b. The keys are 1,2,3. The Values are 'one', 'two', 'three'.\n",
    "\n",
    "c. z[2] will give the value associated with key 2\n",
    "\n",
    "d. z.keys() returns an object that has a list of the keys of z.\n",
    "z.values() gives an object that has a list of the values of z.\n",
    "\n",
    "e. list(z.keys()) gives a list of the keys\n",
    "\n",
    "f. list(z.values()) givse a list of the values\n",
    "\n",
    "g. list(z) gives a list of keys for z, without the values."
   ]
  },
  {
   "cell_type": "markdown",
   "metadata": {},
   "source": [
    "Problem 21\n",
    "1 hour"
   ]
  }
 ],
 "metadata": {
  "kernelspec": {
   "display_name": "Python 3",
   "language": "python",
   "name": "python3"
  },
  "language_info": {
   "codemirror_mode": {
    "name": "ipython",
    "version": 3
   },
   "file_extension": ".py",
   "mimetype": "text/x-python",
   "name": "python",
   "nbconvert_exporter": "python",
   "pygments_lexer": "ipython3",
   "version": "3.6.3"
  }
 },
 "nbformat": 4,
 "nbformat_minor": 2
}
